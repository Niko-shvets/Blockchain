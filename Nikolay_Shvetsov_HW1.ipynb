{
 "cells": [
  {
   "cell_type": "markdown",
   "metadata": {},
   "source": [
    "# Introduction to blockchain HW 1"
   ]
  },
  {
   "cell_type": "markdown",
   "metadata": {},
   "source": [
    "## Problem 1 (10 points)\n",
    "\n",
    "Assume that at the end of the term an instructor uses an RSA Public Key Cryptosystem to sign the grades sent to students and to the Education Office. He signs each grade with his private key and transmits both the grade and the signature in a secure manner encrypted with a public key. After you decrypt the message you use his public key to decipher the signature and verify the grade. Assume the cryptosystem has the following features: n=55, e=33 and that the grading system features integer grades from 0 to 10. You have received the grade-signature pairs 8||13 and 6||41"
   ]
  },
  {
   "cell_type": "markdown",
   "metadata": {},
   "source": [
    "1.Verify that the grades you received are indeed originating from the instructor showing just intermediate results of your calculation (2 points)"
   ]
  },
  {
   "cell_type": "markdown",
   "metadata": {},
   "source": [
    "As we know n=55, it is mean that (p,q)=5,11. From this knowlege we can found \n",
    "$\\phi(n)=(p-1)(q-1)=40$, also we can find secret exponent $d\\equiv 1Mod(\\phi(n)=17$\n",
    "\n",
    "In order to verifies grades we need to make such operations $(s^e)mod(n)$ where s is signature, and after that we need compare results with mark(see below)"
   ]
  },
  {
   "cell_type": "code",
   "execution_count": 45,
   "metadata": {},
   "outputs": [
    {
     "name": "stdout",
     "output_type": "stream",
     "text": [
      "8\n",
      "6\n"
     ]
    }
   ],
   "source": [
    "decripted=(13**33)%55\n",
    "print(decripted)\n",
    "\n",
    "decripted=(41**33)%55\n",
    "print(decripted)"
   ]
  },
  {
   "cell_type": "markdown",
   "metadata": {},
   "source": [
    "Yes, as we see above, our result are equal to mark in the task"
   ]
  },
  {
   "cell_type": "markdown",
   "metadata": {},
   "source": [
    "2.Given the information above only can you fabricate the instructors’ signature for another grade? If yes, for which grade and how? (3 points)"
   ]
  },
  {
   "cell_type": "markdown",
   "metadata": {},
   "source": [
    "Yes, we can to fabricate instructor's signature for another grade, for this we can make simple signature bust(see below). this we can do thanks for small diapazone of marksfrom 0 to 10"
   ]
  },
  {
   "cell_type": "code",
   "execution_count": 46,
   "metadata": {},
   "outputs": [
    {
     "name": "stdout",
     "output_type": "stream",
     "text": [
      "signature 0 mark 0\n",
      "signature 1 mark 1\n",
      "signature 4 mark 9\n",
      "signature 7 mark 2\n",
      "signature 10 mark 10\n",
      "signature 13 mark 8\n",
      "signature 17 mark 7\n",
      "signature 25 mark 5\n",
      "signature 41 mark 6\n",
      "signature 49 mark 4\n",
      "signature 53 mark 3\n"
     ]
    }
   ],
   "source": [
    "for i in range(0,55):\n",
    "    decripted=(i**33)%55\n",
    "    if decripted in range(0,11):\n",
    "        print('signature',i,'mark',decripted)"
   ]
  },
  {
   "cell_type": "code",
   "execution_count": 47,
   "metadata": {},
   "outputs": [
    {
     "name": "stdout",
     "output_type": "stream",
     "text": [
      "e - d 33 17\n",
      "17\n"
     ]
    }
   ],
   "source": [
    "#as we know from punkt 1, d =17, that's why we can make signature for any mark\n",
    "#firstly lets show how we calculate d\n",
    "def extended_gcd(a, b):\n",
    "    x = 0\n",
    "    y = 1\n",
    "    lx = 1\n",
    "    ly = 0\n",
    "    oa = a\n",
    "    ob = b\n",
    "    while b != 0:\n",
    "        q = a // b\n",
    "        (a, b)  = (b, a % b)\n",
    "        (x, lx) = ((lx - (q * x)),x)\n",
    "        (y, ly) = ((ly - (q * y)),y)\n",
    "    if (lx < 0): lx += ob\n",
    "    if (ly < 0): ly += oa\n",
    "    return lx\n",
    "def secret_exp(e, p, q): \n",
    "    phi_n = (p - 1) * (q - 1)\n",
    "    d = extended_gcd(e, phi_n)\n",
    "    print('e - d', e, d)\n",
    "    return d\n",
    "print(secret_exp(33, 11, 5))\n",
    "\n"
   ]
  },
  {
   "cell_type": "code",
   "execution_count": 48,
   "metadata": {},
   "outputs": [
    {
     "name": "stdout",
     "output_type": "stream",
     "text": [
      "mark 0 signature 0\n",
      "mark 1 signature 1\n",
      "mark 2 signature 7\n",
      "mark 3 signature 53\n",
      "mark 4 signature 49\n",
      "mark 5 signature 25\n",
      "mark 6 signature 41\n",
      "mark 7 signature 17\n",
      "mark 8 signature 13\n",
      "mark 9 signature 4\n",
      "mark 10 signature 10\n"
     ]
    }
   ],
   "source": [
    "for i in range(0,11):\n",
    "    decripted=(i**17)%55\n",
    "    print('mark',i,'signature',decripted)\n"
   ]
  },
  {
   "cell_type": "markdown",
   "metadata": {},
   "source": [
    "3.What would you advise the instructor to do so as to prevent such fabrication? (2 points)"
   ]
  },
  {
   "cell_type": "markdown",
   "metadata": {},
   "source": [
    "First is increase a diapazone of marks. Also it will be usefull to make $n$ more complicated, in order to if some villian catch up teacher signal, it will more difficut for him to find $\\phi(n)$ and $d$ "
   ]
  },
  {
   "cell_type": "markdown",
   "metadata": {},
   "source": [
    "4.Discuss what can go wrong in case the instructor sends a grade secretly by first enciphering it with a student’s public key, the signing it with his private key. Provide an example (3 points)"
   ]
  },
  {
   "cell_type": "markdown",
   "metadata": {},
   "source": [
    "If teacher firstly enciphering it with a student’s public key, the signing it with his private key. If student choose the same public key as teacher's public key, it is mean that encryption will be equal decryption. And for student will be unnecessary to broke it. We can show it via formula $(m^e)^d(modn)=m^{ed}(modn)=m$\n",
    "\n",
    "That's mean that teacher must look in order ti his public key will not equal to student's public key"
   ]
  },
  {
   "cell_type": "markdown",
   "metadata": {},
   "source": [
    "## Problem 2 (10 points)"
   ]
  },
  {
   "cell_type": "markdown",
   "metadata": {},
   "source": [
    "El-Gamal is videly used cryptographic standart. In this task you will implement El-Gamal encryption scheme using Python"
   ]
  },
  {
   "cell_type": "markdown",
   "metadata": {},
   "source": [
    "1.Implement function for generating keys. The function must generate big random prime number (problem of generating big prime numbers was discussed during seminar after lecture 3). (2 points)"
   ]
  },
  {
   "cell_type": "code",
   "execution_count": 49,
   "metadata": {},
   "outputs": [
    {
     "name": "stdout",
     "output_type": "stream",
     "text": [
      "p:  179\n",
      "10110011\n",
      "[2, 6, 7, 8, 10, 11, 18, 21, 23, 24, 26, 28, 30, 32, 33, 34, 35, 37, 38, 40, 41, 44, 50, 53, 54, 55, 58, 62, 63, 69, 71, 72, 73, 78, 79, 84, 86, 90, 91, 92, 94, 96, 97, 98, 99, 102, 103, 104, 105, 109, 111, 112, 113, 114, 115, 118, 119, 120, 122, 123, 127, 128, 130, 131, 132, 133, 134, 136, 137, 140, 143, 148, 150, 152, 154, 157, 159, 160, 162, 163, 164, 165, 166, 167, 170, 174, 175, 176]\n",
      "g 137\n"
     ]
    }
   ],
   "source": [
    "#this code was taken from seminar 2\n",
    "import random\n",
    "\n",
    "def is_prime(num, test_count):\n",
    "    if num == 1:\n",
    "        return False\n",
    "    if test_count >= num:\n",
    "        test_count = num - 1\n",
    "    for x in range(test_count):\n",
    "        val = random.randint(1, num - 1)\n",
    "        if pow(val, num-1, num) != 1:\n",
    "            return False\n",
    "    return True\n",
    "\n",
    "def generate_big_prime(n, test_count=1000):\n",
    "    found_prime = False\n",
    "    while not found_prime:\n",
    "        p = random.randint(2**(n-1), 2**n)\n",
    "        if is_prime(p, test_count):\n",
    "            return p\n",
    "        \n",
    "n = 8# for increase speed of counting g, lets take 16 bits \n",
    "p = generate_big_prime(n)\n",
    "print('p: ',p)\n",
    "print(\"{0:b}\".format(p))\n",
    "\n",
    "#implement function for counting g(primitive roots)\n",
    "def gcd(a,b):\n",
    "    while a != b:\n",
    "        if a > b:\n",
    "            a = a - b\n",
    "        else:\n",
    "            b = b - a\n",
    "    return a\n",
    "\n",
    "def primRoots(modulo):\n",
    "    roots = []\n",
    "    required_set = set(num for num in range (1, modulo) if gcd(num, modulo) == 1)\n",
    "\n",
    "    for g in range(1, modulo):\n",
    "        actual_set = set(pow(g, powers-1) % modulo for powers in range (1, modulo))\n",
    "        if required_set == actual_set:\n",
    "            roots.append(g)           \n",
    "    return roots\n",
    "G=primRoots(p)\n",
    "print(G)\n",
    "g=random.choice(G)\n",
    "\n",
    "print('g',g)"
   ]
  },
  {
   "cell_type": "markdown",
   "metadata": {},
   "source": [
    "2.Implement functions that realize the encryption and decryption functions. (2 points)"
   ]
  },
  {
   "cell_type": "code",
   "execution_count": 50,
   "metadata": {},
   "outputs": [],
   "source": [
    "x=random.randint(0,(p-1))\n",
    "k=random.randint(0,(p-1))\n",
    "def encryption(M):\n",
    "    y=pow(g,x,p)\n",
    "    a=pow(g,k,p)\n",
    "    b=(M*(y**k))%p\n",
    "    return (a,b)\n",
    "\n",
    "def decryption(a,b):\n",
    "    s=(b*(a)**(p-1-x))%p\n",
    "    return s\n",
    "   "
   ]
  },
  {
   "cell_type": "markdown",
   "metadata": {},
   "source": [
    "3.Test your functions on random values and show that your realization works correctly (1 point)"
   ]
  },
  {
   "cell_type": "code",
   "execution_count": 51,
   "metadata": {},
   "outputs": [
    {
     "data": {
      "text/plain": [
       "(5, 7)"
      ]
     },
     "execution_count": 51,
     "metadata": {},
     "output_type": "execute_result"
    }
   ],
   "source": [
    "encryption(78)\n"
   ]
  },
  {
   "cell_type": "code",
   "execution_count": 52,
   "metadata": {},
   "outputs": [
    {
     "data": {
      "text/plain": [
       "133"
      ]
     },
     "execution_count": 52,
     "metadata": {},
     "output_type": "execute_result"
    }
   ],
   "source": [
    "decryption(99,91)"
   ]
  },
  {
   "cell_type": "markdown",
   "metadata": {},
   "source": [
    "as we see our functions work rights, and M=decryption, 78=78"
   ]
  },
  {
   "cell_type": "markdown",
   "metadata": {},
   "source": [
    "4.Implement functions that realize creation and verification of digital signature (2 points)"
   ]
  },
  {
   "cell_type": "code",
   "execution_count": null,
   "metadata": {},
   "outputs": [],
   "source": [
    "def eea(a,b):\n",
    "    if b==0:return (1,0)\n",
    "    (q,r) = (a//b,a%b)\n",
    "    (s,t) = eea(b,r)\n",
    "    return (t, s-(q*t) )\n",
    "def find_inverse(x,y):\n",
    "    inv = eea(x,y)[0]\n",
    "    if inv < 1: inv += y #we only want positive values\n",
    "    return inv  \n",
    "def signature(m):\n",
    "    r=pow(g,k,p)\n",
    "    y=pow(g,x,p)\n",
    "    s=((m-x*r)*find_inverse(k,p-1))%(p-1)\n",
    "    pro=((y**r)*(r**s))%p\n",
    "    pro2=pow(g,m,p)\n",
    "    return (s,pro,pro2)\n",
    " "
   ]
  },
  {
   "cell_type": "markdown",
   "metadata": {},
   "source": [
    "5.Test your functions on random values and show that your algorithm works correctly (1 point)"
   ]
  },
  {
   "cell_type": "code",
   "execution_count": null,
   "metadata": {},
   "outputs": [],
   "source": [
    "import hashlib\n",
    "M='Hello world!'\n",
    "m=hash(M)\n",
    "x=random.randint(1,(p-1))\n",
    "k=random.randint(1,(p-1))\n",
    "signature(m)"
   ]
  },
  {
   "cell_type": "markdown",
   "metadata": {},
   "source": [
    "As we see oyr check pro and pro2 are uqual, thats mean that our signature correct"
   ]
  },
  {
   "cell_type": "markdown",
   "metadata": {},
   "source": [
    "## Problem 3 (15 points)"
   ]
  },
  {
   "cell_type": "markdown",
   "metadata": {},
   "source": [
    "1.Implement SHA256 (https://en.wikipedia.org/wiki/SHA-2) hashing algorithm using the pseudo-code below. Note the great increase in mixing between bits of the w[16..63] words compared to SHA-1 (10 points)"
   ]
  },
  {
   "cell_type": "raw",
   "metadata": {},
   "source": [
    "Note 1: All variables are 32 bit unsigned integers and addition is done modulo 2^32\n",
    "Note 2: For each round, there is one round constant k[i] and one entry in the message schedule array w[i], 0 ≤ i ≤ 63\n",
    "Note 3: The compression function uses 8 working variables, a through h\n",
    "Note 4: Big-endian convention is used when expressing the constants in this pseudocode,\n",
    "    and when parsing message block data from bytes to words, for example,\n",
    "    the first word of the input message \"abc\" after padding is 0x61626380\n",
    "\n",
    "Initialize hash values:\n",
    "(first 32 bits of the fractional parts of the square roots of the first 8 primes 2..19):\n",
    "h0 := 0x6a09e667\n",
    "h1 := 0xbb67ae85\n",
    "h2 := 0x3c6ef372\n",
    "h3 := 0xa54ff53a\n",
    "h4 := 0x510e527f\n",
    "h5 := 0x9b05688c\n",
    "h6 := 0x1f83d9ab\n",
    "h7 := 0x5be0cd19\n",
    "\n",
    "Initialize array of round constants:\n",
    "(first 32 bits of the fractional parts of the cube roots of the first 64 primes 2..311):\n",
    "k[0..63] :=\n",
    "   0x428a2f98, 0x71374491, 0xb5c0fbcf, 0xe9b5dba5, 0x3956c25b, 0x59f111f1, 0x923f82a4, 0xab1c5ed5,\n",
    "   0xd807aa98, 0x12835b01, 0x243185be, 0x550c7dc3, 0x72be5d74, 0x80deb1fe, 0x9bdc06a7, 0xc19bf174,\n",
    "   0xe49b69c1, 0xefbe4786, 0x0fc19dc6, 0x240ca1cc, 0x2de92c6f, 0x4a7484aa, 0x5cb0a9dc, 0x76f988da,\n",
    "   0x983e5152, 0xa831c66d, 0xb00327c8, 0xbf597fc7, 0xc6e00bf3, 0xd5a79147, 0x06ca6351, 0x14292967,\n",
    "   0x27b70a85, 0x2e1b2138, 0x4d2c6dfc, 0x53380d13, 0x650a7354, 0x766a0abb, 0x81c2c92e, 0x92722c85,\n",
    "   0xa2bfe8a1, 0xa81a664b, 0xc24b8b70, 0xc76c51a3, 0xd192e819, 0xd6990624, 0xf40e3585, 0x106aa070,\n",
    "   0x19a4c116, 0x1e376c08, 0x2748774c, 0x34b0bcb5, 0x391c0cb3, 0x4ed8aa4a, 0x5b9cca4f, 0x682e6ff3,\n",
    "   0x748f82ee, 0x78a5636f, 0x84c87814, 0x8cc70208, 0x90befffa, 0xa4506ceb, 0xbef9a3f7, 0xc67178f2\n",
    "\n",
    "Pre-processing (Padding):\n",
    "begin with the original message of length L bits\n",
    "append a single '1' bit\n",
    "append K '0' bits, where K is the minimum number >= 0 such that L + 1 + K + 64 is a multiple of 512\n",
    "append L as a 64-bit big-endian integer, making the total post-processed length a multiple of 512 bits\n",
    "\n",
    "Process the message in successive 512-bit chunks:\n",
    "break message into 512-bit chunks\n",
    "for each chunk\n",
    "    create a 64-entry message schedule array w[0..63] of 32-bit words\n",
    "    (The initial values in w[0..63] don't matter, so many implementations zero them here)\n",
    "    copy chunk into first 16 words w[0..15] of the message schedule array\n",
    "\n",
    "    Extend the first 16 words into the remaining 48 words w[16..63] of the message schedule array:\n",
    "    for i from 16 to 63\n",
    "        s0 := (w[i-15] rightrotate 7) xor (w[i-15] rightrotate 18) xor (w[i-15] rightshift 3)\n",
    "        s1 := (w[i-2] rightrotate 17) xor (w[i-2] rightrotate 19) xor (w[i-2] rightshift 10)\n",
    "        w[i] := w[i-16] + s0 + w[i-7] + s1\n",
    "\n",
    "    Initialize working variables to current hash value:\n",
    "    a := h0\n",
    "    b := h1\n",
    "    c := h2\n",
    "    d := h3\n",
    "    e := h4\n",
    "    f := h5\n",
    "    g := h6\n",
    "    h := h7\n",
    "\n",
    "    Compression function main loop:\n",
    "    for i from 0 to 63\n",
    "        S1 := (e rightrotate 6) xor (e rightrotate 11) xor (e rightrotate 25)\n",
    "        ch := (e and f) xor ((not e) and g)\n",
    "        temp1 := h + S1 + ch + k[i] + w[i]\n",
    "        S0 := (a rightrotate 2) xor (a rightrotate 13) xor (a rightrotate 22)\n",
    "        maj := (a and b) xor (a and c) xor (b and c)\n",
    "        temp2 := S0 + maj\n",
    " \n",
    "        h := g\n",
    "        g := f\n",
    "        f := e\n",
    "        e := d + temp1\n",
    "        d := c\n",
    "        c := b\n",
    "        b := a\n",
    "        a := temp1 + temp2\n",
    "\n",
    "    Add the compressed chunk to the current hash value:\n",
    "    h0 := h0 + a\n",
    "    h1 := h1 + b\n",
    "    h2 := h2 + c\n",
    "    h3 := h3 + d\n",
    "    h4 := h4 + e\n",
    "    h5 := h5 + f\n",
    "    h6 := h6 + g\n",
    "    h7 := h7 + h\n",
    "\n",
    "Produce the final hash value (big-endian):\n",
    "digest := hash := h0 append h1 append h2 append h3 append h4 append h5 append h6 append h7"
   ]
  },
  {
   "cell_type": "code",
   "execution_count": 249,
   "metadata": {},
   "outputs": [],
   "source": [
    "def sha256(data):\n",
    "    bytes=\"\"\n",
    "    \n",
    "    h0 = 0x6a09e667\n",
    "    h1 = 0xbb67ae85\n",
    "    h2 = 0x3c6ef372\n",
    "    h3 = 0xa54ff53a\n",
    "    h4 = 0x510e527f\n",
    "    h5 = 0x9b05688c\n",
    "    h6 = 0x1f83d9ab\n",
    "    h7 = 0x5be0cd19\n",
    "    \n",
    "    k=[ 0x428a2f98, 0x71374491, 0xb5c0fbcf, 0xe9b5dba5, 0x3956c25b, 0x59f111f1, 0x923f82a4, 0xab1c5ed5,\n",
    "   0xd807aa98, 0x12835b01, 0x243185be, 0x550c7dc3, 0x72be5d74, 0x80deb1fe, 0x9bdc06a7, 0xc19bf174,\n",
    "   0xe49b69c1, 0xefbe4786, 0x0fc19dc6, 0x240ca1cc, 0x2de92c6f, 0x4a7484aa, 0x5cb0a9dc, 0x76f988da,\n",
    "   0x983e5152, 0xa831c66d, 0xb00327c8, 0xbf597fc7, 0xc6e00bf3, 0xd5a79147, 0x06ca6351, 0x14292967,\n",
    "   0x27b70a85, 0x2e1b2138, 0x4d2c6dfc, 0x53380d13, 0x650a7354, 0x766a0abb, 0x81c2c92e, 0x92722c85,\n",
    "   0xa2bfe8a1, 0xa81a664b, 0xc24b8b70, 0xc76c51a3, 0xd192e819, 0xd6990624, 0xf40e3585, 0x106aa070,\n",
    "   0x19a4c116, 0x1e376c08, 0x2748774c, 0x34b0bcb5, 0x391c0cb3, 0x4ed8aa4a, 0x5b9cca4f, 0x682e6ff3,\n",
    "   0x748f82ee, 0x78a5636f, 0x84c87814, 0x8cc70208, 0x90befffa, 0xa4506ceb, 0xbef9a3f7, 0xc67178f2]\n",
    "    \n",
    "    for n in range(len(data)):\n",
    "        bytes+='{0:08b}'.format(ord(data[n]))\n",
    "    bits = bytes+\"1\"\n",
    "    L = bits\n",
    "    \n",
    "    while (len(L)+1)%512 != 448:\n",
    "              \n",
    "              L+=\"0\"\n",
    "                    \n",
    "    L+='{0:064b}'.format(len(bits)-1)\n",
    "    \n",
    "    def chunks(l, n):\n",
    "        return [l[i:i+n] for i in range(0, len(l), n)]\n",
    "\n",
    "    def rol(n, b):\n",
    "        return ((n >> b) | (n << (32-b))) & 0xffffffff\n",
    "    \n",
    "\n",
    "    for c in chunks(L, 512): \n",
    "        words = chunks(c, 32)\n",
    "        w = [0]*64\n",
    "        for n in range(0, 16):\n",
    "            w[n] = int(words[n], 2)\n",
    "        #for i in range(16, 64):\n",
    "         #   w[i] = rol((w[i-3] ^ w[i-8] ^ w[i-14] ^ w[i-16]), 1)  \n",
    "        \n",
    "        for i in range(16,64):\n",
    "            s0 = rol(w[i-15], 7) ^ rol(w[i-15], 18) ^ (w[i-15]>>3)\n",
    "            s1 = rol(w[i-2], 17) ^ rol(w[i-2], 19) ^ (w[i-2]>> 10)\n",
    "            w[i] = (w[i-16] + s0 + w[i-7] + s1) & 0xffffffff\n",
    "        \n",
    "\n",
    "        a = h0\n",
    "        b = h1\n",
    "        c = h2\n",
    "        d = h3\n",
    "        e = h4\n",
    "        f = h5\n",
    "        g=h6\n",
    "        h=h7\n",
    "        \n",
    "\n",
    "        #Main loop\n",
    "        for i in range(0, 64):\n",
    "            s0 = rol(a, 2) ^ rol(a, 13) ^ rol(a, 22)\n",
    "            maj = (a & b) ^ (a & c) ^ (b & c)\n",
    "            t2 = s0 + maj\n",
    "            s1 = rol(e, 6) ^ rol(e, 11) ^ rol(e, 25)\n",
    "            ch = (e & f) ^ ((~e) & g)\n",
    "            t1 = h + s1 + ch + k[i] + w[i]\n",
    "\n",
    "            h=g\n",
    "            g=f\n",
    "            f=e\n",
    "            e=(d+t1) & 0xffffffff\n",
    "            d=c\n",
    "            c=b\n",
    "            b=a\n",
    "            a=(t1+t2) & 0xffffffff\n",
    "\n",
    "        h0 = h0 + a & 0xffffffff\n",
    "        h1 = h1 + b & 0xffffffff\n",
    "        h2 = h2 + c & 0xffffffff\n",
    "        h3 = h3 + d & 0xffffffff\n",
    "        h4 = h4 + e & 0xffffffff\n",
    "        h5=h5+f & 0xffffffff\n",
    "        h6=h6+g & 0xffffffff\n",
    "        h7=h7+h & 0xffffffff\n",
    "\n",
    "    return '%08x%08x%08x%08x%08x%08x%08x%08x' % (h0, h1, h2, h3, h4,h5,h6,h7)\n",
    "    "
   ]
  },
  {
   "cell_type": "code",
   "execution_count": 250,
   "metadata": {},
   "outputs": [
    {
     "data": {
      "text/plain": [
       "'b94d27b9934d3e08a52e52d7da7dabfac484efe37a5380ee9088f7ace2efcde9'"
      ]
     },
     "execution_count": 250,
     "metadata": {},
     "output_type": "execute_result"
    }
   ],
   "source": [
    "sha256('hello world')"
   ]
  },
  {
   "cell_type": "markdown",
   "metadata": {},
   "source": [
    "2.Calculate hashes of the texts below (1 point)"
   ]
  },
  {
   "cell_type": "code",
   "execution_count": 251,
   "metadata": {},
   "outputs": [],
   "source": [
    "string_small = 'This is a very small string with a few characters.'\n",
    "string_larger = 'This is a larger string that contains more characters.'\n",
    "string_big = 'This is a larger string that contains more characters. This demonstrates that no matter how big the input stream is, the generated hash is the same size (but of course, not the same value). If two files have a different hash, they surely contain different data.'\n",
    "string_empty = ''"
   ]
  },
  {
   "cell_type": "code",
   "execution_count": 252,
   "metadata": {},
   "outputs": [
    {
     "name": "stdout",
     "output_type": "stream",
     "text": [
      "551bfc4b109bec23bbf29ba0e8c4520f194ae77d0c1839b052552deb23774f07\n",
      "e3c7ba4a5ff68765249cc065a5198b1b8be94b67910a946f1fbaa995daecb51a\n",
      "14d7885558ff807137a02f6b610df0e680e34ebf5a2565d44e138443fb82e891\n",
      "e3b0c44298fc1c149afbf4c8996fb92427ae41e4649b934ca495991b7852b855\n"
     ]
    }
   ],
   "source": [
    "string_small_h=sha256(\"This is a very small string with a few characters.\")\n",
    "string_larger_h=sha256(\"This is a larger string that contains more characters.\")\n",
    "string_big_h=sha256(\"This is a larger string that contains more characters. This demonstrates that no matter how big the input stream is, the generated hash is the same size (but of course, not the same value). If two files have a different hash, they surely contain different data.\")\n",
    "string_empty_h=sha256(\"\")\n",
    "print(string_small_h)\n",
    "print(string_larger_h)\n",
    "print(string_big_h)\n",
    "print(string_empty_h)\n"
   ]
  },
  {
   "cell_type": "markdown",
   "metadata": {},
   "source": [
    "3.What is a bit length of each hash? (1 point)"
   ]
  },
  {
   "cell_type": "code",
   "execution_count": 253,
   "metadata": {},
   "outputs": [
    {
     "name": "stdout",
     "output_type": "stream",
     "text": [
      "257\n",
      "258\n",
      "255\n",
      "258\n"
     ]
    }
   ],
   "source": [
    "import binascii\n",
    "string_small_lenght = bin(int(string_small_h, 16))\n",
    "string_larger_lenght=bin(int(string_larger_h, 16))\n",
    "string_big_lenght=bin(int(string_big_h, 16))\n",
    "string_empty_lenght=bin(int(string_empty_h, 16))\n",
    "print(len(string_small_lenght))\n",
    "print(len(string_larger_lenght))\n",
    "print(len(string_big_lenght))\n",
    "print(len(string_empty_lenght))"
   ]
  },
  {
   "cell_type": "markdown",
   "metadata": {},
   "source": [
    "4.What is the bitwise distance between them? What is bitwise distance between their hashes? (1 point)"
   ]
  },
  {
   "cell_type": "code",
   "execution_count": 254,
   "metadata": {},
   "outputs": [
    {
     "name": "stdout",
     "output_type": "stream",
     "text": [
      "38\n",
      "0\n"
     ]
    }
   ],
   "source": [
    "zipped=zip(string_small,string_larger)\n",
    "#list(zipped)\n",
    "d=0\n",
    "for i in zipped:\n",
    "    if i[0]!=i[1]:\n",
    "        d+=1\n",
    "print(d)\n",
    "\n",
    "zipped=zip(string_big,string_empty)\n",
    "#list(zipped)\n",
    "r=0\n",
    "for i in zipped:\n",
    "    if i[0]!=i[1]:\n",
    "        r+=1\n",
    "print(r)"
   ]
  },
  {
   "cell_type": "code",
   "execution_count": 255,
   "metadata": {},
   "outputs": [
    {
     "name": "stdout",
     "output_type": "stream",
     "text": [
      "63\n",
      "59\n"
     ]
    }
   ],
   "source": [
    "zipped=zip(string_small_h,string_larger_h)\n",
    "#list(zipped)\n",
    "d=0\n",
    "for i in zipped:\n",
    "    if i[0]!=i[1]:\n",
    "        d+=1\n",
    "print(d)\n",
    "\n",
    "zipped=zip(string_big_h,string_empty_h)\n",
    "#list(zipped)\n",
    "r=0\n",
    "for i in zipped:\n",
    "    if i[0]!=i[1]:\n",
    "        r+=1\n",
    "print(r)"
   ]
  },
  {
   "cell_type": "markdown",
   "metadata": {},
   "source": [
    "5.Typically use apply hash function to our passwords and texts that we want to digitally sign. Implement digital signature of hashed string using El-Gamal digital signature. Compare the digital signature of pain text and hashed text. (2 points)"
   ]
  },
  {
   "cell_type": "code",
   "execution_count": 287,
   "metadata": {},
   "outputs": [],
   "source": [
    "def sha2_signature(M):\n",
    "    M1 = sha256(M)\n",
    "    M= int(M1, 16)\n",
    "    #M=len(M2)\n",
    "    x=random.randint(1,(p-1))\n",
    "    k = random.randint(1,(p-1))\n",
    "    y=pow(g,x,p)\n",
    "    r = pow(g,k,p)\n",
    "    s=((M-x*r)*find_inverse(k,p-1))%(p-1)\n",
    "    pro=((y**r)*(r**s))%p#verify\n",
    "    pro2=pow(g,M,p)#verify\n",
    "    if pro==pro2:\n",
    "        print('verifierd')\n",
    "    else:\n",
    "        print('unverified')\n",
    "    return (r,s,pro,pro2)\n",
    " \n",
    "  "
   ]
  },
  {
   "cell_type": "code",
   "execution_count": 288,
   "metadata": {},
   "outputs": [
    {
     "name": "stdout",
     "output_type": "stream",
     "text": [
      "verifierd\n"
     ]
    },
    {
     "data": {
      "text/plain": [
       "(82, 100, 97, 97)"
      ]
     },
     "execution_count": 288,
     "metadata": {},
     "output_type": "execute_result"
    }
   ],
   "source": [
    "sha2_signature(M)"
   ]
  },
  {
   "cell_type": "markdown",
   "metadata": {},
   "source": [
    "## Problem 4 (15 points)"
   ]
  },
  {
   "cell_type": "markdown",
   "metadata": {},
   "source": [
    "Merkle hash trees play an important role in forming transaction blocks in blockchain. In this assignment we ask you to plot your own Merkle hash tree and check its' properties. Below we provide you with some code fragment what you can use in your assignment"
   ]
  },
  {
   "cell_type": "code",
   "execution_count": 156,
   "metadata": {},
   "outputs": [],
   "source": [
    "import matplotlib\n",
    "import networkx as nx\n",
    "%matplotlib inline\n",
    "from networkx import balanced_tree, draw_networkx, draw"
   ]
  },
  {
   "cell_type": "markdown",
   "metadata": {},
   "source": [
    "Let us plot graph basis for Merkle hash tree"
   ]
  },
  {
   "cell_type": "code",
   "execution_count": 171,
   "metadata": {},
   "outputs": [
    {
     "data": {
      "text/plain": [
       "{0: Text(0,4,'0'),\n",
       " 1: Text(-2,3,'1'),\n",
       " 2: Text(2,3,'2'),\n",
       " 3: Text(-3,2,'3'),\n",
       " 4: Text(-1,2,'4'),\n",
       " 5: Text(1,2,'5'),\n",
       " 6: Text(3,2,'6'),\n",
       " 7: Text(-3,1,'tx1'),\n",
       " 8: Text(-1,1,'tx2'),\n",
       " 9: Text(1,1,'tx3'),\n",
       " 10: Text(3,1,'tx4')}"
      ]
     },
     "execution_count": 171,
     "metadata": {},
     "output_type": "execute_result"
    },
    {
     "data": {
      "image/png": "[encoded data removed]",
      "text/plain": [
       "<Figure size 432x288 with 1 Axes>"
      ]
     },
     "metadata": {},
     "output_type": "display_data"
    }
   ],
   "source": [
    "G = nx.Graph()\n",
    "positions = {}\n",
    "coordinates = [\n",
    "    [0, 4],\n",
    "    [-2, 3],\n",
    "    [2, 3],\n",
    "    [-3, 2],\n",
    "    [-1, 2],\n",
    "    [1, 2],\n",
    "    [3, 2],\n",
    "    [-3, 1],\n",
    "    [-1, 1],\n",
    "    [1, 1],\n",
    "    [3, 1]\n",
    "]\n",
    "parents = [0, 0, 0, 1, 1, 2, 2, 3, 4, 5, 6]\n",
    "for index in range(11):\n",
    "    G.add_node(index)\n",
    "    G.add_edge(index, parents[index])\n",
    "    positions[index] = coordinates[index]\n",
    "nx.draw(G, positions, node_size = 1000)\n",
    "labels = {\n",
    "    0: '0',\n",
    "    1: '1',\n",
    "    2: '2',\n",
    "    3: '3',\n",
    "    4: '4',\n",
    "    5: '5',\n",
    "    6: '6',\n",
    "    7: 'tx1',\n",
    "    8: 'tx2',\n",
    "    9: 'tx3',\n",
    "    10: 'tx4',\n",
    "}\n",
    "nx.draw_networkx_labels(G, positions, labels = labels)"
   ]
  },
  {
   "cell_type": "markdown",
   "metadata": {},
   "source": [
    "In Bitcoin double sha256 hash scheme is used. Here is an example."
   ]
  },
  {
   "cell_type": "code",
   "execution_count": 172,
   "metadata": {},
   "outputs": [
    {
     "name": "stdout",
     "output_type": "stream",
     "text": [
      "First hash represented as a hexadecimal number: 2cf24dba5fb0a30e26e83b2ac5b9e29e1b161e5c1fa7425e73043362938b9824\n",
      "Second hash represented as a hexadecimal number: 9595c9df90075148eb06860365df33584b75bff782a510c6cd4883a419833d50\n"
     ]
    }
   ],
   "source": [
    "import hashlib\n",
    "\n",
    "\n",
    "first_hash = hashlib.sha256(b\"hello\") # \"b\" stands for binary representation\n",
    "second_hash = hashlib.sha256()\n",
    "print('First hash represented as a hexadecimal number:', first_hash.hexdigest())\n",
    "second_hash.update(first_hash.digest())\n",
    "print('Second hash represented as a hexadecimal number:', second_hash.hexdigest())"
   ]
  },
  {
   "cell_type": "markdown",
   "metadata": {},
   "source": [
    "Now we can easily change vertices' labels to hashes of corresponding messages and plot new graph"
   ]
  },
  {
   "cell_type": "code",
   "execution_count": 173,
   "metadata": {},
   "outputs": [
    {
     "name": "stdout",
     "output_type": "stream",
     "text": [
      "856a4921cd32690244af7568e7bd1391a94119e17c7f33234f4bf11271b223e5\n"
     ]
    },
    {
     "data": {
      "image/png": "[encoded data removed]",
      "text/plain": [
       "<Figure size 432x288 with 1 Axes>"
      ]
     },
     "metadata": {},
     "output_type": "display_data"
    }
   ],
   "source": [
    "labels[3] = hashlib.sha256(hashlib.sha256(b\"tx1\").digest()).hexdigest()\n",
    "\n",
    "# and plot the graph again\n",
    "\n",
    "nx.draw(G, positions, node_size = 1000)\n",
    "nx.draw_networkx_labels(G, positions, labels = labels, font_size = 8)\n",
    "print(labels[3])"
   ]
  },
  {
   "cell_type": "markdown",
   "metadata": {},
   "source": [
    "1.Construct Merkle hash tree using previously constructed graph by finding corresponding SHA256 hashes on vertices (2 points). Plot obtained Merkle hash tree (1 point)"
   ]
  },
  {
   "cell_type": "code",
   "execution_count": 174,
   "metadata": {},
   "outputs": [
    {
     "name": "stdout",
     "output_type": "stream",
     "text": [
      "label 0 5eaee129fb6c4761a542e919f8fd0fa3f3c3d83a33bbeeec5a7e8772ddfb8f88\n",
      "label 1 41925fc3630f375e23755f04099f1b2c51f372a9792762b28478fbbc5faf1106\n",
      "label 2 5c72c2fc6c2ed732c66fa8dc63f163617be1eb6175b88b3b640f440abb236e73\n",
      "label 3 856a4921cd32690244af7568e7bd1391a94119e17c7f33234f4bf11271b223e5\n",
      "label 4 79043a4d1d4d6d0b830519bfc07b92b4d162a4cd54235719c2c3cc211a638dfd\n",
      "label 5 ef729c31d206229249bd791b29676d26cc7465aa6bc2003d80c7a82a316e0233\n",
      "label 6 4746dc9c16f97469fa45710394c4a0e2f29226efc04cab47c29ce579ae19a74e\n",
      "tx1 tx1\n",
      "tx2 tx2\n",
      "tx3 tx3\n",
      "tx4 tx4\n"
     ]
    },
    {
     "data": {
      "image/png": "[encoded data removed]",
      "text/plain": [
       "<Figure size 432x288 with 1 Axes>"
      ]
     },
     "metadata": {},
     "output_type": "display_data"
    }
   ],
   "source": [
    "\n",
    "\n",
    "\n",
    "labels[3] = hashlib.sha256(hashlib.sha256(b\"tx1\").digest()).hexdigest()\n",
    "labels[4] = hashlib.sha256(hashlib.sha256(b\"tx2\").digest()).hexdigest()\n",
    "labels[5] = hashlib.sha256(hashlib.sha256(b\"tx3\").digest()).hexdigest()\n",
    "labels[6] = hashlib.sha256(hashlib.sha256(b\"tx4\").digest()).hexdigest()\n",
    "\n",
    "\n",
    "labels[1]= hashlib.sha256(hashlib.sha256(labels[3].encode('utf-8')+labels[4].encode('utf-8')).digest()).hexdigest()\n",
    "labels[2]= hashlib.sha256(hashlib.sha256(labels[5].encode('utf-8')+labels[6].encode('utf-8')).digest()).hexdigest()\n",
    "\n",
    "#label_0=binascii.unhexlify(labels[1]+labels[2])\n",
    "\n",
    "labels[0]= hashlib.sha256(hashlib.sha256(labels[1].encode('utf-8')+labels[2].encode('utf-8')).digest()).hexdigest()\n",
    "\n",
    "\n",
    "# and plot the graph again\n",
    "\n",
    "nx.draw(G, positions, node_size = 1000)\n",
    "nx.draw_networkx_labels(G, positions, labels = labels, font_size = 8)\n",
    "print('label 0',labels[0])\n",
    "print('label 1',labels[1])\n",
    "print('label 2',labels[2])\n",
    "print('label 3',labels[3])\n",
    "print('label 4',labels[4])\n",
    "print('label 5',labels[5])\n",
    "print('label 6',labels[6])\n",
    "\n",
    "print('tx1',labels[7])\n",
    "print('tx2',labels[8])\n",
    "print('tx3',labels[9])\n",
    "print('tx4',labels[10])"
   ]
  },
  {
   "cell_type": "markdown",
   "metadata": {},
   "source": [
    "2.Provide a proof of correctness of leaf tx2 (2 points). "
   ]
  },
  {
   "cell_type": "code",
   "execution_count": 175,
   "metadata": {},
   "outputs": [
    {
     "name": "stdout",
     "output_type": "stream",
     "text": [
      "True\n",
      "True\n"
     ]
    }
   ],
   "source": [
    "# in order to proof correctness of tx2 we need, compare all hashes tx2 and 4,\n",
    "#1 and hash(hash(3)+hash(4)), 0 and hash(hash(1)+hash(2))\n",
    "#make hash for tx2\n",
    "labels[8] = hashlib.sha256(hashlib.sha256(b\"tx2\").digest()).hexdigest()\n",
    "if labels[8]==labels[4]:\n",
    "     print(True)\n",
    "else:\n",
    "    print(False)\n",
    "lab1=hashlib.sha256(hashlib.sha256(labels[3].encode('utf-8')+labels[4].encode('utf-8')).digest()).hexdigest()\n",
    "lab2=hashlib.sha256(hashlib.sha256(labels[5].encode('utf-8')+labels[6].encode('utf-8')).digest()).hexdigest()\n",
    "lab0=hashlib.sha256(hashlib.sha256(lab1.encode('utf-8')+lab2.encode('utf-8')).digest()).hexdigest()\n",
    "if labels[0]==lab0:\n",
    "    print(True)\n",
    "else:\n",
    "    print(False)"
   ]
  },
  {
   "cell_type": "markdown",
   "metadata": {},
   "source": [
    "3.Provide a proof of correctness for set of leafs (tx3-tx4) (2 points)"
   ]
  },
  {
   "cell_type": "code",
   "execution_count": 176,
   "metadata": {},
   "outputs": [
    {
     "name": "stdout",
     "output_type": "stream",
     "text": [
      "True\n",
      "True\n",
      "True\n",
      "True\n"
     ]
    }
   ],
   "source": [
    "#For tx3\n",
    "labels[9] = hashlib.sha256(hashlib.sha256(b\"tx3\").digest()).hexdigest()\n",
    "if labels[9]==labels[5]:\n",
    "     print(True)\n",
    "else:\n",
    "    print(False)\n",
    "lab1=hashlib.sha256(hashlib.sha256(labels[3].encode('utf-8')+labels[4].encode('utf-8')).digest()).hexdigest()\n",
    "lab2=hashlib.sha256(hashlib.sha256(labels[5].encode('utf-8')+labels[6].encode('utf-8')).digest()).hexdigest()\n",
    "lab0=hashlib.sha256(hashlib.sha256(lab1.encode('utf-8')+lab2.encode('utf-8')).digest()).hexdigest()\n",
    "if labels[0]==lab0:\n",
    "    print(True)\n",
    "else:\n",
    "    print(False)\n",
    "#For tx4\n",
    "labels[10] = hashlib.sha256(hashlib.sha256(b\"tx4\").digest()).hexdigest()\n",
    "if labels[10]==labels[6]:\n",
    "     print(True)\n",
    "else:\n",
    "    print(False)\n",
    "lab1=hashlib.sha256(hashlib.sha256(labels[3].encode('utf-8')+labels[4].encode('utf-8')).digest()).hexdigest()\n",
    "lab2=hashlib.sha256(hashlib.sha256(labels[5].encode('utf-8')+labels[6].encode('utf-8')).digest()).hexdigest()\n",
    "lab0=hashlib.sha256(hashlib.sha256(lab1.encode('utf-8')+lab2.encode('utf-8')).digest()).hexdigest()\n",
    "if labels[0]==lab0:\n",
    "    print(True)\n",
    "else:\n",
    "    print(False)"
   ]
  },
  {
   "cell_type": "markdown",
   "metadata": {},
   "source": [
    "4.Change the value on leaf tx1 and recompute corresponding hashes. Plot newly obtained Merkle hash tree (2 points)"
   ]
  },
  {
   "cell_type": "code",
   "execution_count": 177,
   "metadata": {},
   "outputs": [
    {
     "data": {
      "text/plain": [
       "{0: '5eaee129fb6c4761a542e919f8fd0fa3f3c3d83a33bbeeec5a7e8772ddfb8f88',\n",
       " 1: '41925fc3630f375e23755f04099f1b2c51f372a9792762b28478fbbc5faf1106',\n",
       " 2: '5c72c2fc6c2ed732c66fa8dc63f163617be1eb6175b88b3b640f440abb236e73',\n",
       " 3: '856a4921cd32690244af7568e7bd1391a94119e17c7f33234f4bf11271b223e5',\n",
       " 4: '79043a4d1d4d6d0b830519bfc07b92b4d162a4cd54235719c2c3cc211a638dfd',\n",
       " 5: 'ef729c31d206229249bd791b29676d26cc7465aa6bc2003d80c7a82a316e0233',\n",
       " 6: '4746dc9c16f97469fa45710394c4a0e2f29226efc04cab47c29ce579ae19a74e',\n",
       " 7: 'tx34',\n",
       " 8: '79043a4d1d4d6d0b830519bfc07b92b4d162a4cd54235719c2c3cc211a638dfd',\n",
       " 9: 'ef729c31d206229249bd791b29676d26cc7465aa6bc2003d80c7a82a316e0233',\n",
       " 10: '4746dc9c16f97469fa45710394c4a0e2f29226efc04cab47c29ce579ae19a74e'}"
      ]
     },
     "execution_count": 177,
     "metadata": {},
     "output_type": "execute_result"
    }
   ],
   "source": [
    "labels[7]='tx34'\n",
    "labels"
   ]
  },
  {
   "cell_type": "code",
   "execution_count": 178,
   "metadata": {},
   "outputs": [
    {
     "name": "stdout",
     "output_type": "stream",
     "text": [
      "False\n",
      "False\n"
     ]
    }
   ],
   "source": [
    "labels[7] = hashlib.sha256(hashlib.sha256(b\"tx34\").digest()).hexdigest()\n",
    "if labels[7]==labels[3]:\n",
    "     print(True)\n",
    "else:\n",
    "    print(False)\n",
    "labels[3]=hashlib.sha256(hashlib.sha256(b\"tx34\").digest()).hexdigest()\n",
    "lab1=hashlib.sha256(hashlib.sha256(labels[3].encode('utf-8')+labels[4].encode('utf-8')).digest()).hexdigest()\n",
    "lab2=hashlib.sha256(hashlib.sha256(labels[5].encode('utf-8')+labels[6].encode('utf-8')).digest()).hexdigest()\n",
    "lab0=hashlib.sha256(hashlib.sha256(lab1.encode('utf-8')+lab2.encode('utf-8')).digest()).hexdigest()\n",
    "if labels[0]==lab0:\n",
    "    print(True)\n",
    "else:\n",
    "    print(False)"
   ]
  },
  {
   "cell_type": "markdown",
   "metadata": {},
   "source": [
    "5.Nodes in Merkle hash trees may have arbitrary fanout. In previouse items we consider the case of fanout equals to two. But what will change if we set a fanout equals to three? Construct Merkle hash trees with fanout 3 to sign 9 values? Construct the hash tree with fanout 2 to sign the same set of values? Plot obtained trees (4 points) "
   ]
  },
  {
   "cell_type": "code",
   "execution_count": 180,
   "metadata": {},
   "outputs": [
    {
     "data": {
      "text/plain": [
       "{0: Text(0,5,'0'),\n",
       " 1: Text(-3,4,'1'),\n",
       " 2: Text(0,4,'2'),\n",
       " 3: Text(3,4,'3'),\n",
       " 4: Text(-4,3,'4'),\n",
       " 5: Text(-3,3,'5'),\n",
       " 6: Text(-2,3,'6'),\n",
       " 7: Text(-1,3,'7'),\n",
       " 8: Text(0,3,'8'),\n",
       " 9: Text(1,3,'9'),\n",
       " 10: Text(2,3,'10'),\n",
       " 11: Text(3,3,'11'),\n",
       " 12: Text(4,3,'12'),\n",
       " 13: Text(-4,2,'13'),\n",
       " 14: Text(-3,2,'14'),\n",
       " 15: Text(-2,2,'15'),\n",
       " 16: Text(-1,2,'16'),\n",
       " 17: Text(0,2,'17'),\n",
       " 18: Text(1,2,'18'),\n",
       " 19: Text(2,2,'19'),\n",
       " 20: Text(3,2,'20'),\n",
       " 21: Text(4,2,'21'),\n",
       " 22: Text(-4,1,'tx1'),\n",
       " 23: Text(-3,1,'tx2'),\n",
       " 24: Text(-2,1,'tx3'),\n",
       " 25: Text(-1,1,'tx4'),\n",
       " 26: Text(0,1,'tx5'),\n",
       " 27: Text(1,1,'tx6'),\n",
       " 28: Text(2,1,'tx7'),\n",
       " 29: Text(3,1,'tx8'),\n",
       " 30: Text(4,1,'tx9')}"
      ]
     },
     "execution_count": 180,
     "metadata": {},
     "output_type": "execute_result"
    },
    {
     "data": {
      "image/png": "[encoded data removed]",
      "text/plain": [
       "<Figure size 432x288 with 1 Axes>"
      ]
     },
     "metadata": {},
     "output_type": "display_data"
    }
   ],
   "source": [
    "#For 3 sign and 9 values\n",
    "G = nx.Graph()\n",
    "positions = {}\n",
    "coordinates = [\n",
    "    [0, 5],\n",
    "    [-3, 4],\n",
    "    [0, 4],\n",
    "    [3, 4],\n",
    "    [-4, 3],\n",
    "    [-3, 3],\n",
    "    [-2, 3],\n",
    "    [-1, 3],\n",
    "    [0, 3],\n",
    "    [1, 3],\n",
    "    [2, 3],\n",
    "    [3, 3],\n",
    "    [4, 3],\n",
    "    [-4, 2],\n",
    "    [-3, 2],\n",
    "    [-2, 2],\n",
    "    [-1, 2],\n",
    "    [0, 2],\n",
    "    [1, 2],\n",
    "    [2, 2],\n",
    "    [3, 2],\n",
    "    [4, 2],\n",
    "    [-4, 1],\n",
    "    [-3, 1],\n",
    "    [-2, 1],\n",
    "    [-1, 1],\n",
    "    [0, 1],\n",
    "    [1, 1],\n",
    "    [2, 1],\n",
    "    [3, 1],\n",
    "    [4, 1]\n",
    "]\n",
    "parents = [0, 0, 0, 0, 1, 1, 1, 2, 2, 2, 3, 3, 3, 4, 5, 6,7,8,9,10,11,12,13,14,15,16,17,18,19,20,21]\n",
    "for index in range(31):\n",
    "    G.add_node(index)\n",
    "    G.add_edge(index, parents[index])\n",
    "    positions[index] = coordinates[index]\n",
    "nx.draw(G, positions, node_size = 1000)\n",
    "labels = {\n",
    "    0: '0',\n",
    "    1: '1',\n",
    "    2: '2',\n",
    "    3: '3',\n",
    "    4: '4',\n",
    "    5: '5',\n",
    "    6: '6',\n",
    "    7: '7',\n",
    "    8: '8',\n",
    "    9: '9',\n",
    "    10: '10',\n",
    "    11: '11',\n",
    "    12: '12',\n",
    "    13:'13',\n",
    "    14:'14',\n",
    "    15:'15',\n",
    "    16:'16',\n",
    "    17:'17',\n",
    "    18:'18',\n",
    "    19:'19',\n",
    "    20:'20',\n",
    "    21:'21',\n",
    "    22: 'tx1',\n",
    "    23: 'tx2',\n",
    "    24: 'tx3',\n",
    "    25: 'tx4',\n",
    "    26: 'tx5',\n",
    "    27: 'tx6',\n",
    "    28: 'tx7',\n",
    "    29: 'tx8',\n",
    "    30: 'tx9'\n",
    "}\n",
    "nx.draw_networkx_labels(G, positions, labels = labels)"
   ]
  },
  {
   "cell_type": "code",
   "execution_count": 183,
   "metadata": {},
   "outputs": [
    {
     "data": {
      "text/plain": [
       "{0: Text(0,5,'aaa583ec17aa4b9b01158e74b544e74e8b3ed3f9f5b7b9343f8e5e8f0fd6aef8'),\n",
       " 1: Text(-3,4,'9a68523886d148d65e39c27359b1a22b401a5ea39ad0fbdbdb2ac62bee7f5d69'),\n",
       " 2: Text(0,4,'8bfa7fd364fc1150dcd7d72232f27e61138027520487898e8f24255f4f36e65d'),\n",
       " 3: Text(3,4,'c0eb82499f598532af5fffd692b344059beb2ae807f04e0ddb738973cd6a1aab'),\n",
       " 4: Text(-4,3,'b98cf3a2f07180f54d12ed628ea3aaa28833383c28eb59517205390547ab0a33'),\n",
       " 5: Text(-3,3,'d4653f6397a1aee0150d7d378c78ee61ac52bc41c4532dfb9b990dcbdc17bc26'),\n",
       " 6: Text(-2,3,'d5111703f94b7eebc844f41f6ca18c6e6933f44a69e39a03048ecf229490bc40'),\n",
       " 7: Text(-1,3,'266f9453cf955045cee4c204d9dd26e47dd0959a13ff9893bccc325f0400a3d4'),\n",
       " 8: Text(0,3,'13fd25ff0642d744c69818a83bbd7341c48e9c097b587e5fe1ca477bac3b1cf8'),\n",
       " 9: Text(1,3,'8e006247022127a5a3ba7551142692c651ad84f68e6ccaad504afc7085a03b80'),\n",
       " 10: Text(2,3,'72255b3cf1d414e58036627a7da6109b761963d4f0f3d7976b8a0f9ee12dc0f1'),\n",
       " 11: Text(3,3,'5e65f3ff9acff92c16d2c76c270003ad28d933f4b3c28269b0842486190c9e4e'),\n",
       " 12: Text(4,3,'85a99344f92aa08d21b71cd26b9311a40c1539d58ec5db9f525250f8eb716fa6'),\n",
       " 13: Text(-4,2,'d68c2b09e4f063456f5e1877cbd2d0847e605879784c4fe5fa424fdf32dd317f'),\n",
       " 14: Text(-3,2,'f8688a16591701206b32c5de156a6737cdad8b2ed2607698ed66a242a7d4bf7d'),\n",
       " 15: Text(-2,2,'b68da1df192b5a3c5f9931063d61ee07049a47ad2f9b68b760aefba4a773afeb'),\n",
       " 16: Text(-1,2,'5885deee87b10400cdce0111e4f5a427afb25af8f83d8dfcf430a4c481b8f934'),\n",
       " 17: Text(0,2,'9fc9db3c58c3226c1b38c454ca28ae89bb5cc1ea6fa55f510c3853e422ec04a7'),\n",
       " 18: Text(1,2,'856a4921cd32690244af7568e7bd1391a94119e17c7f33234f4bf11271b223e5'),\n",
       " 19: Text(2,2,'79043a4d1d4d6d0b830519bfc07b92b4d162a4cd54235719c2c3cc211a638dfd'),\n",
       " 20: Text(3,2,'ef729c31d206229249bd791b29676d26cc7465aa6bc2003d80c7a82a316e0233'),\n",
       " 21: Text(4,2,'21'),\n",
       " 22: Text(-4,1,'tx1'),\n",
       " 23: Text(-3,1,'tx2'),\n",
       " 24: Text(-2,1,'tx3'),\n",
       " 25: Text(-1,1,'tx4'),\n",
       " 26: Text(0,1,'tx5'),\n",
       " 27: Text(1,1,'tx6'),\n",
       " 28: Text(2,1,'tx7'),\n",
       " 29: Text(3,1,'tx8'),\n",
       " 30: Text(4,1,'tx9')}"
      ]
     },
     "execution_count": 183,
     "metadata": {},
     "output_type": "execute_result"
    },
    {
     "data": {
      "image/png": "[encoded data removed]",
      "text/plain": [
       "<Figure size 432x288 with 1 Axes>"
      ]
     },
     "metadata": {},
     "output_type": "display_data"
    }
   ],
   "source": [
    "#lets make hashes for each node\n",
    "for i in range(4,21):\n",
    "    labels[i]= hashlib.sha256(hashlib.sha256(labels[i+4].encode('utf-8')).digest()).hexdigest()\n",
    "\n",
    "labels[1]= hashlib.sha256(hashlib.sha256(labels[4].encode('utf-8')+labels[5].encode('utf-8')+labels[6].encode('utf-8')).digest()).hexdigest()\n",
    "labels[2]= hashlib.sha256(hashlib.sha256(labels[7].encode('utf-8')+labels[8].encode('utf-8')+labels[9].encode('utf-8')).digest()).hexdigest() \n",
    "labels[3]= hashlib.sha256(hashlib.sha256(labels[10].encode('utf-8')+labels[11].encode('utf-8')+labels[12].encode('utf-8')).digest()).hexdigest()\n",
    "\n",
    "labels[0]= hashlib.sha256(hashlib.sha256(labels[1].encode('utf-8')+labels[2].encode('utf-8')+labels[3].encode('utf-8')).digest()).hexdigest()\n",
    "\n",
    "nx.draw(G, positions, node_size = 1000)\n",
    "nx.draw_networkx_labels(G, positions, labels = labels, font_size = 8)"
   ]
  },
  {
   "cell_type": "code",
   "execution_count": 166,
   "metadata": {},
   "outputs": [
    {
     "data": {
      "text/plain": [
       "{0: Text(0,6,'0'),\n",
       " 1: Text(-2,5,'1'),\n",
       " 2: Text(2,5,'2'),\n",
       " 3: Text(-4,4,'3'),\n",
       " 4: Text(0,4,'4'),\n",
       " 5: Text(4,4,'5'),\n",
       " 6: Text(-4,3,'6'),\n",
       " 7: Text(-2,3,'7'),\n",
       " 8: Text(0,3,'8'),\n",
       " 9: Text(2,3,'9'),\n",
       " 10: Text(4,3,'10'),\n",
       " 11: Text(-8,2,'11'),\n",
       " 12: Text(-6,2,'12'),\n",
       " 13: Text(-4,2,'13'),\n",
       " 14: Text(-2,2,'14'),\n",
       " 15: Text(0,2,'15'),\n",
       " 16: Text(2,2,'16'),\n",
       " 17: Text(4,2,'17'),\n",
       " 18: Text(6,2,'18'),\n",
       " 19: Text(8,2,'19'),\n",
       " 20: Text(-8,1,'tx1'),\n",
       " 21: Text(-6,1,'tx2'),\n",
       " 22: Text(-4,1,'tx3'),\n",
       " 23: Text(-2,1,'tx4'),\n",
       " 24: Text(0,1,'tx5'),\n",
       " 25: Text(2,1,'tx6'),\n",
       " 26: Text(4,1,'tx7'),\n",
       " 27: Text(6,1,'tx8'),\n",
       " 28: Text(8,1,'tx9')}"
      ]
     },
     "execution_count": 166,
     "metadata": {},
     "output_type": "execute_result"
    },
    {
     "data": {
      "image/png": "[encoded data removed]",
      "text/plain": [
       "<Figure size 432x288 with 1 Axes>"
      ]
     },
     "metadata": {},
     "output_type": "display_data"
    }
   ],
   "source": [
    "#For 2 \n",
    "G = nx.Graph()\n",
    "positions = {}\n",
    "coordinates = [\n",
    "    [0, 6],\n",
    "    [-2, 5],\n",
    "    [2, 5],\n",
    "    [-4, 4],\n",
    "    [0, 4],\n",
    "    [4, 4],\n",
    "    [-4, 3],\n",
    "    [-2, 3],\n",
    "    [0, 3],\n",
    "    [2, 3],\n",
    "    [4, 3],\n",
    "    [-8, 2],\n",
    "    [-6, 2],\n",
    "    [-4, 2],\n",
    "    [-2, 2],\n",
    "    [0, 2],\n",
    "    [2, 2],\n",
    "    [4, 2],\n",
    "    [6, 2],\n",
    "    [8, 2],\n",
    "    [-8, 1],\n",
    "    [-6, 1],\n",
    "    [-4, 1],\n",
    "    [-2, 1],\n",
    "    [0, 1],\n",
    "    [2, 1],\n",
    "    [4, 1],\n",
    "    [6, 1],\n",
    "    [8, 1]\n",
    "]\n",
    "parents = [0, 0,0,1,1,2,3, 3,4,4,5,6,6,7,7,8,8,9,9,10,11,12,13,14,15,16,17,18,19]\n",
    "for index in range(29):\n",
    "    G.add_node(index)\n",
    "    G.add_edge(index, parents[index])\n",
    "    positions[index] = coordinates[index]\n",
    "nx.draw(G, positions, node_size = 1000)\n",
    "labels = {\n",
    "    0: '0',\n",
    "    1: '1',\n",
    "    2: '2',\n",
    "    3: '3',\n",
    "    4: '4',\n",
    "    5: '5',\n",
    "    6: '6',\n",
    "    7: '7',\n",
    "    8: '8',\n",
    "    9: '9',\n",
    "    10: '10',\n",
    "    11: '11',\n",
    "    12: '12',\n",
    "    13: '13',\n",
    "    14: '14',\n",
    "    15: '15',\n",
    "    16: '16',\n",
    "    17: '17',\n",
    "    18: '18',\n",
    "    19: '19',\n",
    "    20: 'tx1',\n",
    "    21: 'tx2',\n",
    "    22: 'tx3',\n",
    "    23: 'tx4',\n",
    "    24: 'tx5',\n",
    "    25: 'tx6',\n",
    "    26: 'tx7',\n",
    "    27: 'tx8',\n",
    "    28: 'tx9'\n",
    "}\n",
    "nx.draw_networkx_labels(G, positions, labels = labels)"
   ]
  },
  {
   "cell_type": "code",
   "execution_count": 168,
   "metadata": {},
   "outputs": [
    {
     "data": {
      "text/plain": [
       "{0: Text(0,6,'011837dfa05282399a1ec18d38c95efa5b2231e6d096aff9036269aa11f667be'),\n",
       " 1: Text(-2,5,'a1fc168c0b8821e6045b1560c791d9abb9107e38b539d22f2e48f73a5e923305'),\n",
       " 2: Text(2,5,'1d5acdeb18c0a72f5ec33b8049b7990cdd40ee81acae5375dfd0f1c06c32252b'),\n",
       " 3: Text(-4,4,'3289814fb4922f91134aba302f16ddff00ac2447a800ae9508837ba3880e0106'),\n",
       " 4: Text(0,4,'b47f57cfca863f12f47a6a15512b5fce0dae8a3afe813f10f57180f919408e03'),\n",
       " 5: Text(4,4,'1d5acdeb18c0a72f5ec33b8049b7990cdd40ee81acae5375dfd0f1c06c32252b'),\n",
       " 6: Text(-4,3,'476a24b686cde5defcc2f6189fc41aaaf9fdd7ebfba2541811870058a835480d'),\n",
       " 7: Text(-2,3,'29879250ace869291077ce32716ef378c2775cbc3eed6bbe98bdea1ab5876bec'),\n",
       " 8: Text(0,3,'c79719f56f25fcae9e47b0336f30d1d3c085afc934bafd372f0b546ab682fb02'),\n",
       " 9: Text(2,3,'26d31590c0c2130ecc9e15a2f593d2d293b9d62674d5e060615506e204ed8ab9'),\n",
       " 10: Text(4,3,'1d5acdeb18c0a72f5ec33b8049b7990cdd40ee81acae5375dfd0f1c06c32252b'),\n",
       " 11: Text(-8,2,'2e16ecb5f8705ab7ebdbda2dda0749c76fc271967648b9a06efb6560550429f0'),\n",
       " 12: Text(-6,2,'f8688a16591701206b32c5de156a6737cdad8b2ed2607698ed66a242a7d4bf7d'),\n",
       " 13: Text(-4,2,'b68da1df192b5a3c5f9931063d61ee07049a47ad2f9b68b760aefba4a773afeb'),\n",
       " 14: Text(-2,2,'5885deee87b10400cdce0111e4f5a427afb25af8f83d8dfcf430a4c481b8f934'),\n",
       " 15: Text(0,2,'e80af6deef42f67853e93c117bc22b1a854c1c209cff8c43ac91c5e7e65591a4'),\n",
       " 16: Text(2,2,'856a4921cd32690244af7568e7bd1391a94119e17c7f33234f4bf11271b223e5'),\n",
       " 17: Text(4,2,'79043a4d1d4d6d0b830519bfc07b92b4d162a4cd54235719c2c3cc211a638dfd'),\n",
       " 18: Text(6,2,'ef729c31d206229249bd791b29676d26cc7465aa6bc2003d80c7a82a316e0233'),\n",
       " 19: Text(8,2,'19'),\n",
       " 20: Text(-8,1,'tx1'),\n",
       " 21: Text(-6,1,'tx2'),\n",
       " 22: Text(-4,1,'tx3'),\n",
       " 23: Text(-2,1,'tx4'),\n",
       " 24: Text(0,1,'tx5'),\n",
       " 25: Text(2,1,'tx6'),\n",
       " 26: Text(4,1,'tx7'),\n",
       " 27: Text(6,1,'tx8'),\n",
       " 28: Text(8,1,'tx9')}"
      ]
     },
     "execution_count": 168,
     "metadata": {},
     "output_type": "execute_result"
    },
    {
     "data": {
      "image/png": "[encoded data removed]",
      "text/plain": [
       "<Figure size 432x288 with 1 Axes>"
      ]
     },
     "metadata": {},
     "output_type": "display_data"
    }
   ],
   "source": [
    "#lets make hashes for each node\n",
    "\n",
    "for i in range(11,19):\n",
    "    labels[i]= hashlib.sha256(hashlib.sha256(labels[i+4].encode('utf-8')).digest()).hexdigest()\n",
    "    \n",
    "labels[6]= hashlib.sha256(hashlib.sha256(labels[11].encode('utf-8')+labels[12].encode('utf-8')).digest()).hexdigest()\n",
    "labels[7]= hashlib.sha256(hashlib.sha256(labels[13].encode('utf-8')+labels[14].encode('utf-8')).digest()).hexdigest()\n",
    "labels[8]= hashlib.sha256(hashlib.sha256(labels[15].encode('utf-8')+labels[16].encode('utf-8')).digest()).hexdigest()\n",
    "labels[9]= hashlib.sha256(hashlib.sha256(labels[17].encode('utf-8')+labels[18].encode('utf-8')).digest()).hexdigest()\n",
    "labels[10]=hashlib.sha256(hashlib.sha256(b\"tx9\").digest()).hexdigest()\n",
    "labels[3]= hashlib.sha256(hashlib.sha256(labels[6].encode('utf-8')+labels[7].encode('utf-8')).digest()).hexdigest()\n",
    "labels[4]= hashlib.sha256(hashlib.sha256(labels[8].encode('utf-8')+labels[9].encode('utf-8')).digest()).hexdigest()\n",
    "labels[5]=hashlib.sha256(hashlib.sha256(b\"tx9\").digest()).hexdigest()\n",
    "labels[1]= hashlib.sha256(hashlib.sha256(labels[3].encode('utf-8')+labels[4].encode('utf-8')).digest()).hexdigest()\n",
    "labels[2]=hashlib.sha256(hashlib.sha256(b\"tx9\").digest()).hexdigest()\n",
    "labels[0]= hashlib.sha256(hashlib.sha256(labels[1].encode('utf-8')+labels[2].encode('utf-8')).digest()).hexdigest()\n",
    "nx.draw(G, positions, node_size = 1000)\n",
    "nx.draw_networkx_labels(G, positions, labels = labels, font_size = 8)"
   ]
  },
  {
   "cell_type": "markdown",
   "metadata": {},
   "source": [
    "6.What is the optimum tree fanout for signing first 4 values in the set up of previouse item? (2 points)"
   ]
  },
  {
   "cell_type": "markdown",
   "metadata": {},
   "source": [
    "If we want hash first 4 leafs, it will be better way to construct merkle tree with 4 fanout, it will be usefull because such way we can reduce our calculation. We can use 2, but it is mean that our merkle tree will be deaper, thats means that optimum is 4."
   ]
  }
 ],
 "metadata": {
  "kernelspec": {
   "display_name": "Python 3",
   "language": "python",
   "name": "python3"
  },
  "language_info": {
   "codemirror_mode": {
    "name": "ipython",
    "version": 3
   },
   "file_extension": ".py",
   "mimetype": "text/x-python",
   "name": "python",
   "nbconvert_exporter": "python",
   "pygments_lexer": "ipython3",
   "version": "3.6.5"
  }
 },
 "nbformat": 4,
 "nbformat_minor": 2
}
